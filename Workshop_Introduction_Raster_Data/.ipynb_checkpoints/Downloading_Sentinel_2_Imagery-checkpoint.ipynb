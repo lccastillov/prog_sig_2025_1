{
 "cells": [
  {
   "cell_type": "markdown",
   "id": "14bc1919-dc58-46fe-a252-6b01dcc8e023",
   "metadata": {},
   "source": [
    "#  Sentinel-2 Harmonized Image Download from Google Earth Engine  \n",
    "### Version 1\n",
    "\n",
    "This notebook is part of the Programación SIG course, taught within the Master’s in Geomatics at the Faculty of Agricultural Sciences,  Universidad Nacional de Colombia.\n",
    "\n",
    "**Lecturer:** Liliana Carolina Castillo Villamor  \n",
    "\n",
    "---\n",
    "\n",
    "In this workshop, we will to:\n",
    "- Connect to the Google Earth Engine (GEE) platform using Python.\n",
    "- Define an Area of Interest (AOI) using a shapefile.\n",
    "- Search for and filter Sentinel-2 Harmonized imagery.\n",
    "- Export a preprocessed image (e.g. median composite) to GeoTIFF.\n",
    "\n",
    "We will use the `ee`, `geemap`, and `geopandas` libraries.\n"
   ]
  },
  {
   "cell_type": "markdown",
   "id": "14737838-84cc-4471-9e03-6560b659c5c2",
   "metadata": {},
   "source": [
    "## 1. Setting the scene\n",
    "### 1.1. Import required libraries"
   ]
  },
  {
   "cell_type": "code",
   "execution_count": 3,
   "id": "7f981879-c952-4f7a-add5-10f33452d770",
   "metadata": {},
   "outputs": [],
   "source": [
    "import ee\n",
    "import geemap\n",
    "import geopandas as gpd\n"
   ]
  },
  {
   "cell_type": "markdown",
   "id": "1cb69a08-c6c2-4e47-88af-d3eb3b2ec8c1",
   "metadata": {},
   "source": [
    "### 1.2.Define paths to datasets"
   ]
  },
  {
   "cell_type": "code",
   "execution_count": 5,
   "id": "4b7dedfc-5190-4509-8e90-5fc32ce94dd0",
   "metadata": {},
   "outputs": [
    {
     "data": {
      "text/html": [
       "\n",
       "            <style>\n",
       "                .geemap-dark {\n",
       "                    --jp-widgets-color: white;\n",
       "                    --jp-widgets-label-color: white;\n",
       "                    --jp-ui-font-color1: white;\n",
       "                    --jp-layout-color2: #454545;\n",
       "                    background-color: #383838;\n",
       "                }\n",
       "\n",
       "                .geemap-dark .jupyter-button {\n",
       "                    --jp-layout-color3: #383838;\n",
       "                }\n",
       "\n",
       "                .geemap-colab {\n",
       "                    background-color: var(--colab-primary-surface-color, white);\n",
       "                }\n",
       "\n",
       "                .geemap-colab .jupyter-button {\n",
       "                    --jp-layout-color3: var(--colab-primary-surface-color, white);\n",
       "                }\n",
       "            </style>\n",
       "            "
      ],
      "text/plain": [
       "<IPython.core.display.HTML object>"
      ]
     },
     "metadata": {},
     "output_type": "display_data"
    }
   ],
   "source": [
    "m_root=r\"/Users/macbook/Library/CloudStorage/OneDrive-UniversidadNacionaldeColombia/1_Periodos_Asignaturas/Cursos_2025_1/Programacion SIG/Talleres/Datos\"\n",
    "aoi=m_root+r\"/aoi.gpkg\" # Path to the vector file that contains the AOI"
   ]
  },
  {
   "cell_type": "markdown",
   "id": "79a6ac36-df97-4f0c-8054-7899548ab242",
   "metadata": {},
   "source": [
    "### 1.2. Authenticate and Initialise Earth Engine\n",
    "Before accessing any datasets or running analyses with Google Earth Engine (GEE), we must initialise the Earth Engine API.\n",
    "\n",
    "First, check whether Earth Engine is already authenticated. If not, it prompts you to log in using your Google account via a browser window. Once authenticated, the connection is initialised.\n"
   ]
  },
  {
   "cell_type": "code",
   "execution_count": 7,
   "id": "a17c1624-a0fb-4e34-8d69-dadc95212def",
   "metadata": {},
   "outputs": [
    {
     "data": {
      "text/html": [
       "\n",
       "            <style>\n",
       "                .geemap-dark {\n",
       "                    --jp-widgets-color: white;\n",
       "                    --jp-widgets-label-color: white;\n",
       "                    --jp-ui-font-color1: white;\n",
       "                    --jp-layout-color2: #454545;\n",
       "                    background-color: #383838;\n",
       "                }\n",
       "\n",
       "                .geemap-dark .jupyter-button {\n",
       "                    --jp-layout-color3: #383838;\n",
       "                }\n",
       "\n",
       "                .geemap-colab {\n",
       "                    background-color: var(--colab-primary-surface-color, white);\n",
       "                }\n",
       "\n",
       "                .geemap-colab .jupyter-button {\n",
       "                    --jp-layout-color3: var(--colab-primary-surface-color, white);\n",
       "                }\n",
       "            </style>\n",
       "            "
      ],
      "text/plain": [
       "<IPython.core.display.HTML object>"
      ]
     },
     "metadata": {},
     "output_type": "display_data"
    }
   ],
   "source": [
    "# Attempt to initialise the Earth Engine API\n",
    "try:\n",
    "    ee.Initialize()\n",
    "\n",
    "    # If initialisation fails (likely because the user is not yet authenticated), prompt the user to log in using their Google account\n",
    "except Exception as e:\n",
    "    # If Earth Engine is not yet authenticated, prompt the user to sign in via a browser\n",
    "    # This step ensures proper authorisation using a Google account\n",
    "    ee.Authenticate()\n",
    "    \n",
    "    # Re-initialise Earth Engine after successful authentication\n",
    "    ee.Initialize()"
   ]
  },
  {
   "cell_type": "markdown",
   "id": "4894cd25-fbf1-498d-891e-dc54fdf5b229",
   "metadata": {},
   "source": [
    "### 1.3. Read the Area of Interest \n",
    "Load a vector file containing the **Area of Interest (AOI)** using `geopandas, and then converts the geometry from the Geopackage into an Earth Engine geometry object. This is necessary because Earth Engine requires its own geometry format for spatial operations.\n"
   ]
  },
  {
   "cell_type": "code",
   "execution_count": 9,
   "id": "7c2c3430-cd5d-461c-8a21-c9e74b0bc28d",
   "metadata": {},
   "outputs": [
    {
     "data": {
      "text/html": [
       "\n",
       "            <style>\n",
       "                .geemap-dark {\n",
       "                    --jp-widgets-color: white;\n",
       "                    --jp-widgets-label-color: white;\n",
       "                    --jp-ui-font-color1: white;\n",
       "                    --jp-layout-color2: #454545;\n",
       "                    background-color: #383838;\n",
       "                }\n",
       "\n",
       "                .geemap-dark .jupyter-button {\n",
       "                    --jp-layout-color3: #383838;\n",
       "                }\n",
       "\n",
       "                .geemap-colab {\n",
       "                    background-color: var(--colab-primary-surface-color, white);\n",
       "                }\n",
       "\n",
       "                .geemap-colab .jupyter-button {\n",
       "                    --jp-layout-color3: var(--colab-primary-surface-color, white);\n",
       "                }\n",
       "            </style>\n",
       "            "
      ],
      "text/plain": [
       "<IPython.core.display.HTML object>"
      ]
     },
     "metadata": {},
     "output_type": "display_data"
    }
   ],
   "source": [
    "# Read shapefile with geopandas\n",
    "gdf_aoi = gpd.read_file(aoi)\n",
    "\n",
    "# Convert to Earth Engine geometry\n",
    "aoi_geom = gdf_aoi.geometry[0].__geo_interface__\n",
    "aoi_ee = ee.Geometry(aoi_geom)\n"
   ]
  },
  {
   "cell_type": "markdown",
   "id": "d5885cc7-56d9-4c04-9ec9-f39f129b9e33",
   "metadata": {},
   "source": [
    "## 2. Filter Sentinel-2 Harmonized Imagery\n",
    "\n",
    "We will now search for Sentinel-2 Surface Reflectance (Level 2) imagery using the `COPERNICUS/S2_SR_HARMONIZED` collection:\n",
    "\n",
    "- Filter by date\n",
    "- Filter by cloud coverage\n",
    "- Filter by location (AOI)\n",
    "You can read more about this collection and explore its metadata, bands, and usage guidance here:  \n",
    " [COPERNICUS/S2_SR_HARMONIZED – Earth Engine Data Catalog](https://developers.google.com/earth-engine/datasets/catalog/COPERNICUS_S2_SR_HARMONIZED)\n"
   ]
  },
  {
   "cell_type": "code",
   "execution_count": 39,
   "id": "8e1757ac-58a0-4bce-8eb6-c00cdd8c5dd6",
   "metadata": {},
   "outputs": [
    {
     "data": {
      "text/html": [
       "\n",
       "            <style>\n",
       "                .geemap-dark {\n",
       "                    --jp-widgets-color: white;\n",
       "                    --jp-widgets-label-color: white;\n",
       "                    --jp-ui-font-color1: white;\n",
       "                    --jp-layout-color2: #454545;\n",
       "                    background-color: #383838;\n",
       "                }\n",
       "\n",
       "                .geemap-dark .jupyter-button {\n",
       "                    --jp-layout-color3: #383838;\n",
       "                }\n",
       "\n",
       "                .geemap-colab {\n",
       "                    background-color: var(--colab-primary-surface-color, white);\n",
       "                }\n",
       "\n",
       "                .geemap-colab .jupyter-button {\n",
       "                    --jp-layout-color3: var(--colab-primary-surface-color, white);\n",
       "                }\n",
       "            </style>\n",
       "            "
      ],
      "text/plain": [
       "<IPython.core.display.HTML object>"
      ]
     },
     "metadata": {},
     "output_type": "display_data"
    }
   ],
   "source": [
    "# Define the temporal range for image selection\n",
    "start_date = '2022-01-01'  # Start of the desired date range\n",
    "end_date = '2022-12-31'    # End of the desired date range\n",
    "\n",
    "# Load the Sentinel-2 Harmonised Surface Reflectance image collection\n",
    "# and apply filters to narrow down the search\n",
    "collection = (\n",
    "    ee.ImageCollection(\"COPERNICUS/S2_SR_HARMONIZED\")\n",
    "    .filterDate(start_date, end_date)              # Filter images by date\n",
    "    .filterBounds(aoi_ee)                          # Filter images by location (our AOI)\n",
    "    .filter(ee.Filter.lt('CLOUDY_PIXEL_PERCENTAGE', 20))  # Keep only images with <10% cloud cover\n",
    ")\n",
    "\n",
    "# Generate a median composite image from the filtered collection\n",
    "# This reduces noise and cloud effects by taking the median value per pixel\n",
    "composite = collection.median().clip(aoi_ee)  # Clip to the AOI to minimise processing size\n"
   ]
  },
  {
   "cell_type": "markdown",
   "id": "5f49915c-eea9-42c6-9742-6d908e2869f0",
   "metadata": {},
   "source": [
    "## 3. Visualise the Image composite\n",
    "\n",
    "Before exporting the processed image, it’s good practice to preview the result and ensure it covers the expected area, with adequate quality.\n",
    "\n",
    "Use `geemap` to create an interactive map and overlay the Sentinel-2 RGB composite (bands B4, B3, B2).\n",
    "\n"
   ]
  },
  {
   "cell_type": "code",
   "execution_count": 42,
   "id": "05d93627-7bba-4b7e-8f0e-849fe634c195",
   "metadata": {},
   "outputs": [
    {
     "data": {
      "text/html": [
       "\n",
       "            <style>\n",
       "                .geemap-dark {\n",
       "                    --jp-widgets-color: white;\n",
       "                    --jp-widgets-label-color: white;\n",
       "                    --jp-ui-font-color1: white;\n",
       "                    --jp-layout-color2: #454545;\n",
       "                    background-color: #383838;\n",
       "                }\n",
       "\n",
       "                .geemap-dark .jupyter-button {\n",
       "                    --jp-layout-color3: #383838;\n",
       "                }\n",
       "\n",
       "                .geemap-colab {\n",
       "                    background-color: var(--colab-primary-surface-color, white);\n",
       "                }\n",
       "\n",
       "                .geemap-colab .jupyter-button {\n",
       "                    --jp-layout-color3: var(--colab-primary-surface-color, white);\n",
       "                }\n",
       "            </style>\n",
       "            "
      ],
      "text/plain": [
       "<IPython.core.display.HTML object>"
      ]
     },
     "metadata": {},
     "output_type": "display_data"
    },
    {
     "data": {
      "application/vnd.jupyter.widget-view+json": {
       "model_id": "722d61b51dcb40599ff768b0b49d1aff",
       "version_major": 2,
       "version_minor": 0
      },
      "text/plain": [
       "Map(center=[4.831080121156068, -73.16777407883282], controls=(WidgetControl(options=['position', 'transparent_…"
      ]
     },
     "execution_count": 42,
     "metadata": {},
     "output_type": "execute_result"
    }
   ],
   "source": [
    "# Create an interactive map centred on the AOI (Area of Interest)\n",
    "\n",
    "# We use geemap.Map(), which is based on ipyleaflet, to build an interactive map\n",
    "# The 'center' parameter takes [latitude, longitude] as input\n",
    "\n",
    "# To calculate the centre of the AOI:\n",
    "# - gdf_aoi.geometry[0] accesses the first (and in our case, only) geometry in the GeoDataFrame\n",
    "# - .centroid returns the centre point (as a shapely Point object) of the polygon\n",
    "# - .y and .x extract the latitude and longitude coordinates of the centroid respectively\n",
    "\n",
    "Map = geemap.Map(\n",
    "    center=[gdf_aoi.geometry[0].centroid.y, gdf_aoi.geometry[0].centroid.x],  # [lat, lon]\n",
    "    zoom=13  # Set initial zoom level (adjust as needed)\n",
    ")\n",
    "# Add the composite to the map with RGB bands (B4 = red, B3 = green, B2 = blue)\n",
    "\n",
    "rgb_vis_params = {\n",
    "    'min': 100,    # Slight offset to reduce haze\n",
    "    'max': 2000,   # Higher max to improve contrast\n",
    "    'bands': ['B4', 'B3', 'B2']  # RGB bands\n",
    "}\n",
    "\n",
    "# Add the Sentinel-2 RGB composite to the map\n",
    "# - 'composite' is the image to be displayed\n",
    "# - 'rgb_vis_params' defines which bands to use (B4 = red, B3 = green, B2 = blue) and sets the brightness/contrast range using 'min' and 'max'\n",
    "# - The third argument is the label that appears in the map layer control\n",
    "Map.addLayer(composite, rgb_vis_params, \"Sentinel-2 RGB Composite (Brightened)\")\n",
    "\n",
    "# Add the Area of Interest (AOI) boundary to the map as a vector overlay\n",
    "Map.addLayer(aoi_ee, {}, \"AOI Boundary\")\n",
    "\n",
    "# Enable map layer controls (checkboxes and layer ordering)\n",
    "Map.addLayerControl()\n",
    "\n",
    "# Display the map\n",
    "Map\n"
   ]
  },
  {
   "cell_type": "markdown",
   "id": "8d94df82-a71b-467d-b566-05037617c723",
   "metadata": {},
   "source": [
    "### 3.1. Explore the names of all bands  in the composite image\n",
    "The Sentinel-2 composite image contains multiple spectral bands, each capturing reflectance in a different portion of the electromagnetic spectrum.\n",
    "Before creating custom visualisations, it's important to know which spectral bands are present in the image as well as the min and max values of each of them. \n",
    "\n",
    "The followng lines:\n",
    "\n",
    "- List the available band names in the composite.\n",
    "- Calculate the minimum and maximum reflectance values** for each band over the area of interest (AOI).\n",
    "\n",
    ">  These statistics are  useful when setting `min` and `max` values for visualisation. \n",
    "> Because each band can have a different reflectance range, using the same visualisation parameters across all bands might lead to overly dark or saturated images.\n"
   ]
  },
  {
   "cell_type": "code",
   "execution_count": 15,
   "id": "a633a73c-a446-4ef4-a865-359165a59dda",
   "metadata": {},
   "outputs": [
    {
     "data": {
      "text/html": [
       "\n",
       "            <style>\n",
       "                .geemap-dark {\n",
       "                    --jp-widgets-color: white;\n",
       "                    --jp-widgets-label-color: white;\n",
       "                    --jp-ui-font-color1: white;\n",
       "                    --jp-layout-color2: #454545;\n",
       "                    background-color: #383838;\n",
       "                }\n",
       "\n",
       "                .geemap-dark .jupyter-button {\n",
       "                    --jp-layout-color3: #383838;\n",
       "                }\n",
       "\n",
       "                .geemap-colab {\n",
       "                    background-color: var(--colab-primary-surface-color, white);\n",
       "                }\n",
       "\n",
       "                .geemap-colab .jupyter-button {\n",
       "                    --jp-layout-color3: var(--colab-primary-surface-color, white);\n",
       "                }\n",
       "            </style>\n",
       "            "
      ],
      "text/plain": [
       "<IPython.core.display.HTML object>"
      ]
     },
     "metadata": {},
     "output_type": "display_data"
    },
    {
     "name": "stdout",
     "output_type": "stream",
     "text": [
      "Available bands in the Sentinel-2 composite:\n",
      "['B1', 'B2', 'B3', 'B4', 'B5', 'B6', 'B7', 'B8', 'B8A', 'B9', 'B11', 'B12', 'AOT', 'WVP', 'SCL', 'TCI_R', 'TCI_G', 'TCI_B', 'MSK_CLDPRB', 'MSK_SNWPRB', 'QA10', 'QA20', 'QA60', 'MSK_CLASSI_OPAQUE', 'MSK_CLASSI_CIRRUS', 'MSK_CLASSI_SNOW_ICE']\n",
      "\n",
      " Min and Max values per band:\n",
      "  B1: min = 178.00, max = 1785.50\n",
      "  B2: min = 193.00, max = 3434.00\n",
      "  B3: min = 274.50, max = 3780.00\n",
      "  B4: min = 179.00, max = 3650.00\n",
      "  B5: min = 420.00, max = 3744.50\n",
      "  B6: min = 516.00, max = 5014.00\n",
      "  B7: min = 662.50, max = 5981.00\n",
      "  B8: min = 534.00, max = 7012.00\n",
      "  B8A: min = 518.00, max = 6345.00\n",
      "  B9: min = 662.00, max = 5320.00\n",
      "  B11: min = 294.50, max = 5240.00\n",
      "  B12: min = 188.00, max = 5339.50\n",
      "  AOT: min = 131.00, max = 211.00\n",
      "  WVP: min = 1821.50, max = 3981.00\n",
      "  SCL: min = 2.00, max = 7.00\n",
      "  TCI_R: min = 18.50, max = 255.00\n",
      "  TCI_G: min = 27.50, max = 255.00\n",
      "  TCI_B: min = 20.00, max = 255.00\n",
      "  MSK_CLDPRB: min = 0.00, max = 8.00\n",
      "  MSK_SNWPRB: min = 0.00, max = 0.00\n",
      "  QA10: min = 0.00, max = 0.00\n",
      "  QA20: min = 0.00, max = 0.00\n",
      "  QA60: min = 0.00, max = 0.00\n",
      "  MSK_CLASSI_OPAQUE: No data available in AOI\n",
      "  MSK_CLASSI_CIRRUS: No data available in AOI\n",
      "  MSK_CLASSI_SNOW_ICE: No data available in AOI\n"
     ]
    }
   ],
   "source": [
    "# Print the names of all bands available in the composite image\n",
    "band_names = composite.bandNames().getInfo()\n",
    "print(\"Available bands in the Sentinel-2 composite:\")\n",
    "print(band_names)\n",
    "\n",
    "# Display min and max values for each band\n",
    "print(\"\\n Min and Max values per band:\")\n",
    "\n",
    "# Loop through each band and print its value range (with safety check)\n",
    "for band in band_names:\n",
    "    band_img = composite.select(band)\n",
    "    stats = band_img.reduceRegion(\n",
    "        reducer=ee.Reducer.minMax(),\n",
    "        geometry=aoi_ee,\n",
    "        scale=10,\n",
    "        maxPixels=1e9\n",
    "    ).getInfo()\n",
    "    \n",
    "    min_val = stats.get(f\"{band}_min\")\n",
    "    max_val = stats.get(f\"{band}_max\")\n",
    "    \n",
    "    if min_val is not None and max_val is not None:\n",
    "        print(f\"  {band}: min = {min_val:.2f}, max = {max_val:.2f}\")\n",
    "    else:\n",
    "        print(f\"  {band}: No data available in AOI\")\n"
   ]
  },
  {
   "cell_type": "markdown",
   "id": "a114d3c2-14b6-45c7-ba55-e74766c5c55d",
   "metadata": {},
   "source": [
    "### 3.2. Stretching Bands Individually for Enhanced Visualisation\n",
    "\n",
    "So far, we have visualised our Sentinel-2 image using a single brightness/contrast stretch (`min`/`max`) applied uniformly to all bands.\n",
    "\n",
    "However, each spectral band may have a different reflectance range. Applying a single stretch to all bands may result in an overly dark or overly bright image.\n",
    "\n",
    "To enhance visual contrast, we can apply a **custom stretch to each band individually**. This involves:\n",
    "- Selecting each band separately,\n",
    "- Applying a normalisation (e.g. from 0–3000 to 0–1) using `.unitScale()`,\n",
    "- Merging the bands back together for display.\n",
    "\n",
    "Let’s apply custom visual scaling to the RGB bands (B4, B3, B2).\n"
   ]
  },
  {
   "cell_type": "code",
   "execution_count": 19,
   "id": "183259e4-f5af-4d58-87f6-ea7a0ecc9c78",
   "metadata": {},
   "outputs": [
    {
     "data": {
      "text/html": [
       "\n",
       "            <style>\n",
       "                .geemap-dark {\n",
       "                    --jp-widgets-color: white;\n",
       "                    --jp-widgets-label-color: white;\n",
       "                    --jp-ui-font-color1: white;\n",
       "                    --jp-layout-color2: #454545;\n",
       "                    background-color: #383838;\n",
       "                }\n",
       "\n",
       "                .geemap-dark .jupyter-button {\n",
       "                    --jp-layout-color3: #383838;\n",
       "                }\n",
       "\n",
       "                .geemap-colab {\n",
       "                    background-color: var(--colab-primary-surface-color, white);\n",
       "                }\n",
       "\n",
       "                .geemap-colab .jupyter-button {\n",
       "                    --jp-layout-color3: var(--colab-primary-surface-color, white);\n",
       "                }\n",
       "            </style>\n",
       "            "
      ],
      "text/plain": [
       "<IPython.core.display.HTML object>"
      ]
     },
     "metadata": {},
     "output_type": "display_data"
    },
    {
     "data": {
      "application/vnd.jupyter.widget-view+json": {
       "model_id": "eea7d093f3354e0da2942d265d2c81d3",
       "version_major": 2,
       "version_minor": 0
      },
      "text/plain": [
       "Map(center=[4.831080121156068, -73.16777407883282], controls=(WidgetControl(options=['position', 'transparent_…"
      ]
     },
     "execution_count": 19,
     "metadata": {},
     "output_type": "execute_result"
    }
   ],
   "source": [
    "Map2 = geemap.Map(\n",
    "    center=[gdf_aoi.geometry[0].centroid.y, gdf_aoi.geometry[0].centroid.x],  # [lat, lon]\n",
    "    zoom=13  # Set initial zoom level (adjust as needed)\n",
    ")\n",
    "# Define custom min/max values for each RGB band\n",
    "# These values can be adjusted based on the actual reflectance range of each band\n",
    "stretch_params = {\n",
    "    'B4': {'min': 0, 'max': 3000},  # Red band\n",
    "    'B3': {'min': 0, 'max': 2500},  # Green band\n",
    "    'B2': {'min': 0, 'max': 2000}   # Blue band\n",
    "}\n",
    "\n",
    "# Apply per-band linear stretch using .unitScale(min, max), which rescales values to 0–1\n",
    "b4_scaled = composite.select('B4').unitScale(stretch_params['B4']['min'], stretch_params['B4']['max'])\n",
    "b3_scaled = composite.select('B3').unitScale(stretch_params['B3']['min'], stretch_params['B3']['max'])\n",
    "b2_scaled = composite.select('B2').unitScale(stretch_params['B2']['min'], stretch_params['B2']['max'])\n",
    "\n",
    "# Combine the stretched bands into a new composite image\n",
    "rgb_stretched = ee.Image.cat([b4_scaled, b3_scaled, b2_scaled])\n",
    "\n",
    "# Add the new composite to the interactive map\n",
    "Map2.addLayer(rgb_stretched, {'min': 0, 'max': 1, 'bands': ['B4', 'B3', 'B2']}, 'Stretched RGB (per band)')\n",
    "\n",
    "# Display the updated map\n",
    "Map2\n"
   ]
  },
  {
   "cell_type": "markdown",
   "id": "b58f39b2-42f3-4465-a21b-d0cc4aaa1cbc",
   "metadata": {},
   "source": [
    "### ✏️ Now it's your turn\n",
    "\n",
    "You’ve just learnt how to enhance visualisation by applying a custom stretch per band. Now, let’s create a false colour composite using the following Sentinel-2 bands:\n",
    "\n",
    "- B8 (Near Infrared)\n",
    "- B4 (Red)\n",
    "- B3 (Green)\n",
    "\n",
    "False colour composites are useful for vegetation monitoring, as healthy vegetation reflects strongly in the NIR.\n"
   ]
  },
  {
   "cell_type": "code",
   "execution_count": 21,
   "id": "bea99319-17a3-42aa-9155-13826e68bb1b",
   "metadata": {},
   "outputs": [
    {
     "data": {
      "text/html": [
       "\n",
       "            <style>\n",
       "                .geemap-dark {\n",
       "                    --jp-widgets-color: white;\n",
       "                    --jp-widgets-label-color: white;\n",
       "                    --jp-ui-font-color1: white;\n",
       "                    --jp-layout-color2: #454545;\n",
       "                    background-color: #383838;\n",
       "                }\n",
       "\n",
       "                .geemap-dark .jupyter-button {\n",
       "                    --jp-layout-color3: #383838;\n",
       "                }\n",
       "\n",
       "                .geemap-colab {\n",
       "                    background-color: var(--colab-primary-surface-color, white);\n",
       "                }\n",
       "\n",
       "                .geemap-colab .jupyter-button {\n",
       "                    --jp-layout-color3: var(--colab-primary-surface-color, white);\n",
       "                }\n",
       "            </style>\n",
       "            "
      ],
      "text/plain": [
       "<IPython.core.display.HTML object>"
      ]
     },
     "metadata": {},
     "output_type": "display_data"
    }
   ],
   "source": [
    "# Your script here\n"
   ]
  },
  {
   "cell_type": "markdown",
   "id": "3b0829df-5bea-4275-8583-7a7312713b4b",
   "metadata": {},
   "source": [
    "## 4. Exporting the Composite Image to Google Drive\n",
    "\n",
    "Once the image has been processed and reviewed, we can export it to **Google Drive**, which is suitable for saving large images.\n",
    "\n",
    ">  Exporting to Google Drive is recommended for high-resolution or large-area composites, as it avoids memory limitations commonly encountered when downloading to the local environment.\n",
    "\n",
    "The following code sends the composite image (clipped to the AOI) as a GeoTIFF file to your Google Drive. You will find it in a folder called `earthengine` by default, unless otherwise specified.\n"
   ]
  },
  {
   "cell_type": "code",
   "execution_count": null,
   "id": "29687850-f996-4e1f-8e18-d7a416c64fd2",
   "metadata": {},
   "outputs": [],
   "source": [
    "# Export the composite image to Google Drive\n",
    "task = ee.batch.Export.image.toDrive(\n",
    "    image=composite,\n",
    "    description='Sentinel2_Composite_Export',\n",
    "    folder='earthengine',            # Destination folder in Google Drive\n",
    "    fileNamePrefix='sentinel2_rgb', # File name without extension\n",
    "    region=aoi_ee,                   # Area to export\n",
    "    scale=10,                        # Set a very high limit to allow exporting large images\n",
    "                                     # Earth Engine requires this to avoid exporting by mistake very large rasters\n",
    "                                     # The default limit is 1e8 (100 million pixels), so we override it here\n",
    "\n",
    "    maxPixels=1e13,                  # Allow large exports\n",
    "    fileFormat='GeoTIFF'\n",
    ")\n",
    "\n",
    "# Start the export task\n",
    "task.start()\n",
    "\n",
    "print(\"Export task started. Monitor progress in the Earth Engine Tasks tab.\")\n"
   ]
  },
  {
   "cell_type": "markdown",
   "id": "6265e0a3-d238-4d7d-b8dc-527569eb6db1",
   "metadata": {},
   "source": [
    "##  ✏️  Now it's your turn: Work with a Landsat Collection and Download a False Colour Image\n",
    "\n",
    "Let’s now apply what you've learned to a new satellite image collection: **Landsat**.\n",
    "\n",
    "1. Search and choose a Landsat image collection available in Earth Engine.\n",
    "2. Inspect the available bands in the collection and identify:\n",
    "   - Near Infrared (NIR)\n",
    "   - Red\n",
    "   - Green\n",
    "\n",
    "3. Load a filtered image collection** using:\n",
    "   - A relevant date range\n",
    "   - Your existing Area of Interest\n",
    "   - An appropriate cloud cover filter\n",
    "\n",
    "4. Generate a composite using a different function to median().\n",
    "\n",
    "5. Visualise the image on the map using a false colour RGB combination (e.g. NIR-Red-Green).\n",
    "\n",
    "6. Export the image to your computer (not Google Drive) in GeoTIFF format using `geemap.ee_export_image()` as you did with the SRTM.\n",
    "\n",
    "\n",
    "> Give it a try and see how Landsat compares to Sentinel-2!\n"
   ]
  },
  {
   "cell_type": "code",
   "execution_count": null,
   "id": "5e3b977f-68f8-4247-a28a-423d299e9d3d",
   "metadata": {},
   "outputs": [],
   "source": [
    "# Your script here"
   ]
  }
 ],
 "metadata": {
  "kernelspec": {
   "display_name": "Python 3 (ipykernel)",
   "language": "python",
   "name": "python3"
  },
  "language_info": {
   "codemirror_mode": {
    "name": "ipython",
    "version": 3
   },
   "file_extension": ".py",
   "mimetype": "text/x-python",
   "name": "python",
   "nbconvert_exporter": "python",
   "pygments_lexer": "ipython3",
   "version": "3.12.2"
  }
 },
 "nbformat": 4,
 "nbformat_minor": 5
}
