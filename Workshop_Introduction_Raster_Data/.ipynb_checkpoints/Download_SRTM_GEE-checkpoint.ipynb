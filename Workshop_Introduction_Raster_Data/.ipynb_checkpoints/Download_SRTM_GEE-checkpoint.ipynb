{
 "cells": [
  {
   "cell_type": "markdown",
   "id": "245607d9-87e7-4fed-844a-4c5f4676d29f",
   "metadata": {},
   "source": [
    " # Downloading SRTM DEM from Google Earth Engine\n",
    "\n",
    "This notebook focuses **only** on downloading SRTM Digital Elevation Model (DEM) data using Google Earth Engine (GEE).\n",
    "It  demonstrates how to download a DEM clipped to a specific area of interest (AOI), defined by a shapefile, using the Earth Engine Python API."
   ]
  },
  {
   "cell_type": "markdown",
   "id": "0b07afb8-7ed8-4d7a-9c90-39b6e08e2246",
   "metadata": {},
   "source": [
    "## 1. Setting the scene"
   ]
  },
  {
   "cell_type": "markdown",
   "id": "3d82e475-17dc-49bd-9df9-8bd7094ed80f",
   "metadata": {},
   "source": [
    "### 1.1. Import required libraries"
   ]
  },
  {
   "cell_type": "code",
   "execution_count": 9,
   "id": "aee1080b-8046-4846-ba10-c14bcf4446c7",
   "metadata": {},
   "outputs": [],
   "source": [
    "import ee                     # Earth Engine Python AP: provides access to Google's geospatial datasets and analysis capabilities\n",
    "import geemap                 # simplifies interaction with Earth Engine and allows exporting of raster images\n",
    "import geopandas as gpd       # used to handle shapefiles and other vector spatial data in Python\n",
    "import numpy as np\n",
    "import rasterio\n",
    "import rasterio.plot\n",
    "import matplotlib.pyplot as plt  # Library for creating visualisations"
   ]
  },
  {
   "cell_type": "markdown",
   "id": "f4bf0c15-17c8-4fcd-a96b-81a7ef9157d9",
   "metadata": {},
   "source": [
    "### 1.2.Define paths to datasets"
   ]
  },
  {
   "cell_type": "code",
   "execution_count": 4,
   "id": "270869e8-c642-48b7-8834-0d073045d8e7",
   "metadata": {},
   "outputs": [],
   "source": [
    "m_root=r\"/Users/macbook/Library/CloudStorage/OneDrive-UniversidadNacionaldeColombia/1_Periodos_Asignaturas/Cursos_2025_1/Programacion SIG/Talleres/Datos\"\n",
    "aoi=m_root+r\"/aoi.gpkg\" # Path to the vector file that contains the AOI\n",
    "dem_path=m_root+\"/dem_aoi.tif\" # Path where the downloaded DEM will be stored"
   ]
  },
  {
   "cell_type": "markdown",
   "id": "fa451fb4-57a0-48c5-8bfb-3a0d47550284",
   "metadata": {},
   "source": [
    "## 2. Authentication and Connection to Google Earth Engine\n",
    "### 2.1: Authenticate with Google Earth Engine\n",
    "\n",
    "This step authorises access to your Google Earth Engine account from this environment.  \n",
    "A link will be generated; please sign in with your Google account and copy the verification code provided.\n",
    "> **Note:** This step is only required the first time you use Earth Engine in a new environment or after resetting credentials.  Once authenticated, the credentials will be saved and reused automatically in subsequent sessions.\n"
   ]
  },
  {
   "cell_type": "code",
   "execution_count": 84,
   "id": "05ae67b6-8927-4f12-8ef1-540a3889ae09",
   "metadata": {},
   "outputs": [
    {
     "data": {
      "text/html": [
       "\n",
       "            <style>\n",
       "                .geemap-dark {\n",
       "                    --jp-widgets-color: white;\n",
       "                    --jp-widgets-label-color: white;\n",
       "                    --jp-ui-font-color1: white;\n",
       "                    --jp-layout-color2: #454545;\n",
       "                    background-color: #383838;\n",
       "                }\n",
       "\n",
       "                .geemap-dark .jupyter-button {\n",
       "                    --jp-layout-color3: #383838;\n",
       "                }\n",
       "\n",
       "                .geemap-colab {\n",
       "                    background-color: var(--colab-primary-surface-color, white);\n",
       "                }\n",
       "\n",
       "                .geemap-colab .jupyter-button {\n",
       "                    --jp-layout-color3: var(--colab-primary-surface-color, white);\n",
       "                }\n",
       "            </style>\n",
       "            "
      ],
      "text/plain": [
       "<IPython.core.display.HTML object>"
      ]
     },
     "metadata": {},
     "output_type": "display_data"
    },
    {
     "data": {
      "text/plain": [
       "True"
      ]
     },
     "execution_count": 84,
     "metadata": {},
     "output_type": "execute_result"
    }
   ],
   "source": [
    "ee.Authenticate()"
   ]
  },
  {
   "cell_type": "markdown",
   "id": "ed91f47c-2121-42ec-a881-5ca31ed069bc",
   "metadata": {},
   "source": [
    "### 2.2. Initialise the Earth Engine Library\n",
    "\n",
    "Once authenticated, you must initialise the Earth Engine API to enable access to its functions in this notebook."
   ]
  },
  {
   "cell_type": "code",
   "execution_count": 10,
   "id": "7d1e00b6-deb7-4abc-96ac-ca261d7f08a8",
   "metadata": {},
   "outputs": [
    {
     "data": {
      "text/html": [
       "\n",
       "            <style>\n",
       "                .geemap-dark {\n",
       "                    --jp-widgets-color: white;\n",
       "                    --jp-widgets-label-color: white;\n",
       "                    --jp-ui-font-color1: white;\n",
       "                    --jp-layout-color2: #454545;\n",
       "                    background-color: #383838;\n",
       "                }\n",
       "\n",
       "                .geemap-dark .jupyter-button {\n",
       "                    --jp-layout-color3: #383838;\n",
       "                }\n",
       "\n",
       "                .geemap-colab {\n",
       "                    background-color: var(--colab-primary-surface-color, white);\n",
       "                }\n",
       "\n",
       "                .geemap-colab .jupyter-button {\n",
       "                    --jp-layout-color3: var(--colab-primary-surface-color, white);\n",
       "                }\n",
       "            </style>\n",
       "            "
      ],
      "text/plain": [
       "<IPython.core.display.HTML object>"
      ]
     },
     "metadata": {},
     "output_type": "display_data"
    }
   ],
   "source": [
    "ee.Initialize()"
   ]
  },
  {
   "cell_type": "markdown",
   "id": "ebb4c9bf-720b-492f-b7fb-90d42fc8005c",
   "metadata": {},
   "source": [
    "## 3. Prepare and Download the SRTM DEM for Your Area of Interest"
   ]
  },
  {
   "cell_type": "markdown",
   "id": "4261b02e-ad02-4f47-9df4-e28ace5ed77a",
   "metadata": {},
   "source": [
    "### 3.1.  Prepare and visualise the DEM\n",
    "\n",
    "We will load a shapefile representing the study area and convert its geometry into a format compatible with Earth Engine. \n",
    "\n",
    "We then use this geometry to clip the SRTM Digital Elevation Model (DEM), provided by the USGS at 30 m resolution, so that the dataset only covers the area of interest. "
   ]
  },
  {
   "cell_type": "code",
   "execution_count": 12,
   "id": "71a9c1e0-00cb-4e62-afa8-bee8d0ea327c",
   "metadata": {},
   "outputs": [
    {
     "data": {
      "text/html": [
       "\n",
       "            <style>\n",
       "                .geemap-dark {\n",
       "                    --jp-widgets-color: white;\n",
       "                    --jp-widgets-label-color: white;\n",
       "                    --jp-ui-font-color1: white;\n",
       "                    --jp-layout-color2: #454545;\n",
       "                    background-color: #383838;\n",
       "                }\n",
       "\n",
       "                .geemap-dark .jupyter-button {\n",
       "                    --jp-layout-color3: #383838;\n",
       "                }\n",
       "\n",
       "                .geemap-colab {\n",
       "                    background-color: var(--colab-primary-surface-color, white);\n",
       "                }\n",
       "\n",
       "                .geemap-colab .jupyter-button {\n",
       "                    --jp-layout-color3: var(--colab-primary-surface-color, white);\n",
       "                }\n",
       "            </style>\n",
       "            "
      ],
      "text/plain": [
       "<IPython.core.display.HTML object>"
      ]
     },
     "metadata": {},
     "output_type": "display_data"
    },
    {
     "name": "stdout",
     "output_type": "stream",
     "text": [
      "Generating URL ...\n",
      "Downloading data from https://earthengine.googleapis.com/v1/projects/787727703389/thumbnails/e28ba0e1dbc96a391b4ed43478534a82-d3476e6f03a223657c090ac737b3a14c:getPixels\n",
      "Please wait ...\n",
      "Data downloaded to /Users/macbook/Library/CloudStorage/OneDrive-UniversidadNacionaldeColombia/1_Periodos_Asignaturas/Cursos_2025_1/Programacion SIG/Talleres/Datos/dem_aoi.tif\n",
      " Export complete: dem_area_estudio.tif\n"
     ]
    }
   ],
   "source": [
    "# Read the shapefile containing the extent of the study area\n",
    "gdf_aoi = gpd.read_file(aoi)\n",
    "\n",
    "\n",
    "#--- Convert the AOI geometry to Earth Engine format ---\n",
    "\n",
    "aoi_geom = gdf_aoi.geometry[0]                    # Extract the polygon geometry\n",
    "aoi_coords = aoi_geom.__geo_interface__       # Convert to GeoJSON format\n",
    "aoi_ee = ee.Geometry(aoi_coords)              # Convert to Earth Engine Geometry\n",
    "\n",
    "# --  Load the DEM and clip it to the AOI ---\n",
    "\n",
    "# Use the SRTM DEM (30m resolution) provided by the USGS\n",
    "dem = ee.Image(\"USGS/SRTMGL1_003\")\n",
    "\n",
    "# Clip the DEM to the area of interest\n",
    "dem_clipped = dem.clip(aoi_ee)\n"
   ]
  },
  {
   "cell_type": "markdown",
   "id": "f2dee477-33cf-4271-83b0-6ea5f34a3257",
   "metadata": {},
   "source": [
    "## 4. Visualise the Clipped DEM on an Interactive Map\n",
    "\n",
    "This step uses `geemap` to display the DEM overlaid on an interactive map, with a colour palette representing elevation values.\n"
   ]
  },
  {
   "cell_type": "code",
   "execution_count": 102,
   "id": "85e5122f-cfe8-40f1-9d87-193d18a9f1a2",
   "metadata": {},
   "outputs": [
    {
     "data": {
      "text/html": [
       "\n",
       "            <style>\n",
       "                .geemap-dark {\n",
       "                    --jp-widgets-color: white;\n",
       "                    --jp-widgets-label-color: white;\n",
       "                    --jp-ui-font-color1: white;\n",
       "                    --jp-layout-color2: #454545;\n",
       "                    background-color: #383838;\n",
       "                }\n",
       "\n",
       "                .geemap-dark .jupyter-button {\n",
       "                    --jp-layout-color3: #383838;\n",
       "                }\n",
       "\n",
       "                .geemap-colab {\n",
       "                    background-color: var(--colab-primary-surface-color, white);\n",
       "                }\n",
       "\n",
       "                .geemap-colab .jupyter-button {\n",
       "                    --jp-layout-color3: var(--colab-primary-surface-color, white);\n",
       "                }\n",
       "            </style>\n",
       "            "
      ],
      "text/plain": [
       "<IPython.core.display.HTML object>"
      ]
     },
     "metadata": {},
     "output_type": "display_data"
    },
    {
     "data": {
      "application/vnd.jupyter.widget-view+json": {
       "model_id": "22628de990bb4036a1da384c8f8fc6ca",
       "version_major": 2,
       "version_minor": 0
      },
      "text/plain": [
       "Map(center=[4.831080121156068, -73.16777407883282], controls=(WidgetControl(options=['position', 'transparent_…"
      ]
     },
     "execution_count": 102,
     "metadata": {},
     "output_type": "execute_result"
    }
   ],
   "source": [
    "# Create an interactive map centred on the centroid of the AOI\n",
    "Map = geemap.Map(center=[aoi_geom.centroid.y, aoi_geom.centroid.x], zoom=13)\n",
    "\n",
    "# Add the clipped DEM to the map with a custom colour palette\n",
    "# Lower elevations are shown in red, and higher elevations in green\n",
    "Map.addLayer(\n",
    "    dem_clipped,\n",
    "    {\n",
    "        'min': 200,  # Minimum elevation for visualisation\n",
    "        'max': 1000,  # Maximum elevation for visualisation\n",
    "        'palette': ['red', 'orange', 'yellow', 'lightgreen', 'green']  # Colour scale\n",
    "    },\n",
    "    'SRTM DEM clipped'  # Layer name\n",
    ")\n",
    "\n",
    "# Display the map\n",
    "Map\n"
   ]
  },
  {
   "cell_type": "markdown",
   "id": "2a9e575b-4ec3-440d-bf06-636b330a85b6",
   "metadata": {},
   "source": [
    "### 🎯 Now it’s your turn\n",
    "\n",
    "Try modifying the parameters of the interactive map to explore a different area:\n",
    "\n",
    "- Replace the current shapefile with one representing another region of interest.\n",
    "- Adjust the zoom level and map centre accordingly.\n",
    "- Update the visualisation range (`min` and `max`) to better reflect the elevation characteristics of your new area.\n",
    "- Experiment with different colour palettes to emphasise various elevation gradients.\n",
    "\n",
    "> Tip: You can find alternative colour palettes on [ColorBrewer](https://colorbrewer2.org/) or create your own.\n",
    "\n",
    "Once updated, re-run the map cell to check how the visualisation changes with your new parameters.\n"
   ]
  },
  {
   "cell_type": "markdown",
   "id": "fe7e63d6-4b8f-4868-a450-ab6d54bb146b",
   "metadata": {},
   "source": [
    "## 5. Export the clipped DEM to a file on your local computer \n",
    "\n",
    "Once the SRTM DEM has been clipped to your area of interest and visually inspected, it can be exported to your local machine as a GeoTIFF file.\n",
    "\n",
    "The export function below uses the `geemap.ee_export_image()` utility, which handles the download of Earth Engine images.  \n",
    "\n",
    ">  After running the cell, check your working directory for the output file.\n"
   ]
  },
  {
   "cell_type": "code",
   "execution_count": 110,
   "id": "8ea55c97-834b-482d-a70b-3459f972297d",
   "metadata": {},
   "outputs": [
    {
     "data": {
      "text/html": [
       "\n",
       "            <style>\n",
       "                .geemap-dark {\n",
       "                    --jp-widgets-color: white;\n",
       "                    --jp-widgets-label-color: white;\n",
       "                    --jp-ui-font-color1: white;\n",
       "                    --jp-layout-color2: #454545;\n",
       "                    background-color: #383838;\n",
       "                }\n",
       "\n",
       "                .geemap-dark .jupyter-button {\n",
       "                    --jp-layout-color3: #383838;\n",
       "                }\n",
       "\n",
       "                .geemap-colab {\n",
       "                    background-color: var(--colab-primary-surface-color, white);\n",
       "                }\n",
       "\n",
       "                .geemap-colab .jupyter-button {\n",
       "                    --jp-layout-color3: var(--colab-primary-surface-color, white);\n",
       "                }\n",
       "            </style>\n",
       "            "
      ],
      "text/plain": [
       "<IPython.core.display.HTML object>"
      ]
     },
     "metadata": {},
     "output_type": "display_data"
    },
    {
     "name": "stdout",
     "output_type": "stream",
     "text": [
      "Generating URL ...\n",
      "Downloading data from https://earthengine.googleapis.com/v1/projects/787727703389/thumbnails/e28ba0e1dbc96a391b4ed43478534a82-a9224a44a62c42a9ee9374bd8a5a9495:getPixels\n",
      "Please wait ...\n",
      "Data downloaded to /Users/macbook/Library/CloudStorage/OneDrive-UniversidadNacionaldeColombia/1_Periodos_Asignaturas/Cursos_2025_1/Programacion SIG/Talleres/Datos/dem_aoi.tif\n",
      " Export complete  /Users/macbook/Library/CloudStorage/OneDrive-UniversidadNacionaldeColombia/1_Periodos_Asignaturas/Cursos_2025_1/Programacion SIG/Talleres/Datos/dem_aoi.tif\n"
     ]
    }
   ],
   "source": [
    "# Export settings:\n",
    "# - scale: 30 metres\n",
    "# - region: defined by AOI\n",
    "# - file_per_band=False: saves as a single-band GeoTIFF file\n",
    "\n",
    "geemap.ee_export_image(\n",
    "    dem_clipped,\n",
    "    filename=dem_path,\n",
    "    scale=30,\n",
    "    region=aoi_ee,\n",
    "    file_per_band=False\n",
    ")\n",
    "\n",
    "print(\" Export complete \", dem_path)"
   ]
  },
  {
   "cell_type": "code",
   "execution_count": null,
   "id": "06f32a6b-f699-4eaf-b87e-a0d98090e827",
   "metadata": {},
   "outputs": [],
   "source": []
  },
  {
   "cell_type": "code",
   "execution_count": null,
   "id": "af62443e-9fe0-480c-9fa1-51b2b36e5353",
   "metadata": {},
   "outputs": [],
   "source": []
  }
 ],
 "metadata": {
  "kernelspec": {
   "display_name": "Python 3 (ipykernel)",
   "language": "python",
   "name": "python3"
  },
  "language_info": {
   "codemirror_mode": {
    "name": "ipython",
    "version": 3
   },
   "file_extension": ".py",
   "mimetype": "text/x-python",
   "name": "python",
   "nbconvert_exporter": "python",
   "pygments_lexer": "ipython3",
   "version": "3.12.2"
  }
 },
 "nbformat": 4,
 "nbformat_minor": 5
}
